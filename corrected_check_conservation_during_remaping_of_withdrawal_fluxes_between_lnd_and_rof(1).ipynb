{
 "cells": [
  {
   "cell_type": "code",
   "execution_count": 266,
   "id": "fb9aaed8-7955-4b59-9c4f-51eb2be1e4a4",
   "metadata": {},
   "outputs": [],
   "source": [
    "import numpy as np\n",
    "import xarray as xr\n",
    "import pandas as pd\n",
    "import matplotlib.pyplot as plt\n",
    "import matplotlib as mpl\n",
    "import cartopy.crs as ccrs\n",
    "import cartopy.feature as cf\n",
    "from cartopy.feature import NaturalEarthFeature\n",
    "from matplotlib import colors\n",
    "from functools import reduce\n",
    "import cftime as cf\n",
    "import regionmask\n",
    "import geopandas as gp\n",
    "import matplotlib.patheffects as pe\n",
    "import pooch\n",
    "from IPython.display import Markdown"
   ]
  },
  {
   "cell_type": "markdown",
   "id": "ee6dc13e-5bde-40b8-b676-f17aa112fc7c",
   "metadata": {},
   "source": [
    "# Is there a difference between total sectoral withdrawal in the LND and ROF components?\n",
    "While the demand for irrigation and other sectors is computed in the land component (LND) of the model, the supply come from the routing component (ROF), and notably from the river network storage.\n",
    "Since the LND and ROF components have different grids, there is a need to properly connect the demand and supply part through the coupler. This is done through a mapping procedure from LND -> ROF fluxes.\n",
    "\n",
    "Another important challenge to consider, is that the multiple ROF cells which overlap with a given LND cell, may have very different amount of water stored in the river (VOLR).\n",
    "It makes sense therefore to distribute the demand load (from LND cell), onto the ROF cells in proportion to their water storage. \n",
    "If we take more water from ROF cells with higher VOLR, we are more likely to avoid the situation in which we try to withdraw more that it is available in any given ROF cell.\n",
    "In this case we will not be invoking the protection algorithm which provides missing water from ocean, an unrealistic situation to be avoided.\n",
    "\n",
    "The currently implemented mapping procedure goes as follow:\n",
    "1) Normalize a given LND cell demand flux by the available VOLR in that LND cell\n",
    "2) Mapping this VOLR-normalized demand flux to the ROF grid\n",
    "3) Convert the VOLR-normalized demand flux back to normal flux on the ROF grid\n",
    "\n",
    "If the remapping procedure is correct, we should expect that when we aggregate at global or continental level, the total actual withdrawal seen by the LND and ROF model should be the same.\n",
    "In this notebook I am testing this hypothesis, first for irrigation, and then for other sectors which used the same remaping procedure.\n"
   ]
  },
  {
   "cell_type": "code",
   "execution_count": 281,
   "id": "b56e330e-4a53-4235-8bb0-10ae22b628fd",
   "metadata": {},
   "outputs": [
    {
     "name": "stdout",
     "output_type": "stream",
     "text": [
      "Total land covered area in MOSART is: 132.0 millions km2\n",
      "Total land covered area in CLM is: 149.0 millions km2\n"
     ]
    }
   ],
   "source": [
    "# unit transform constants\n",
    "seconds_per_day = 86400.0\n",
    "avg_days_per_month_year_2000 = 366.0/12\n",
    "mm_per_s_to_mm_per_month = seconds_per_day*avg_days_per_month_year_2000\n",
    "\n",
    "m_to_mm = 10**(3)\n",
    "mm_to_m = 10**(-3)\n",
    "\n",
    "# Since ROF provides the withdrawal fluxes as m3/s, we need to divide by each grid area to obtain the fluxes as mm/s\n",
    "# The MOSART provides 3 outputs for area. From these 3, I found that only 'areatotal2' provides the right magnitude of withdrawal fluxes when compared to the LND fluxes (but I am not 100% if this is the right area values to use)\n",
    "area_rof       =  xr.open_dataset('/glade/scratch/staranu/archive/ctsm_escomp_irrig_rof_limited/rof/hist/selected_data/area/area_rof.nc', decode_times=False)['area'].values.flatten() # runoff grid area\n",
    "areatotal_rof  =  xr.open_dataset('/glade/scratch/staranu/archive/ctsm_escomp_irrig_rof_limited/rof/hist/selected_data/area/areatotal_rof.nc', decode_times=False)['areatotal'].values.flatten() # basin upstream areatotal\n",
    "areatotal2_rof =  xr.open_dataset('/glade/scratch/staranu/archive/ctsm_escomp_irrig_rof_limited/rof/hist/selected_data/area/areatotal2_rof.nc', decode_times=False)['areatotal2'].values.flatten() # computed basin upstream areatotal\n",
    "area_lnd =  xr.open_dataset('/glade/scratch/staranu/archive/ctsm_escomp_irrig_rof_limited/lnd/hist/selected_data/area/area_lnd.nc', decode_times=False)['area'].values.flatten()*(10**6) # transform from km2 to m2\n",
    "\n",
    "mask_lnd  = xr.open_dataset('/glade/u/home/staranu/useful_data/landmask.nc', decode_times=False)['landmask'].values.flatten()\n",
    "lndfract = xr.open_dataset('/glade/u/home/staranu/useful_data/landfrac.nc', decode_times=False)['landfrac'].values.flatten()\n",
    "area_lnd = area_lnd*lndfract\n",
    "\n",
    "mask_rof = xr.open_dataset('/glade/u/home/staranu/useful_data/rof_mask.nc', decode_times=False)['mask'].values.flatten()\n",
    "area_rof = np.where((mask_rof == 1) | (mask_rof == 3), area_rof, np.nan)\n",
    "\n",
    "print(\"Total land covered area in MOSART is: \" +str(np.round(np.nansum(area_rof)/(10**12), 0)) + \" millions km2\") \n",
    "print(\"Total land covered area in CLM is: \" +str(np.round(np.nansum(area_lnd)/(10**12), 0)) + \" millions km2\") \n",
    "\n",
    "mask_rof = np.where(mask_rof == 2, mask_rof, 1)\n",
    "mask_rof = np.where(mask_rof == 1, mask_rof, np.nan)\n",
    "\n",
    "rof_m3_per_s_to_km3_per_month = seconds_per_day*avg_days_per_month_year_2000/(10**9)\n",
    "lnd_mm_per_s_to_km3_per_month = mm_per_s_to_mm_per_month*mm_to_m*area_lnd/(10**9)"
   ]
  },
  {
   "cell_type": "code",
   "execution_count": 268,
   "id": "44cecc19-eea2-4612-bfff-46434aa87cd3",
   "metadata": {},
   "outputs": [],
   "source": [
    "# Load lon and lat coordinates for lnd and rof components\n",
    "lnd_lon = xr.open_dataset('/glade/scratch/staranu/archive/ctsm_escomp_irrig_rof_limited/lnd/hist/selected_data/aggregated_data/selected_variables.ctsm_escomp_irrig_rof_limited.clm2.h0.2000.nc')['lon'].values\n",
    "lnd_lat = xr.open_dataset('/glade/scratch/staranu/archive/ctsm_escomp_irrig_rof_limited/lnd/hist/selected_data/aggregated_data/selected_variables.ctsm_escomp_irrig_rof_limited.clm2.h0.2000.nc')['lat'].values\n",
    "\n",
    "rof_lon = xr.open_dataset('/glade/scratch/staranu/archive/ctsm_escomp_irrig_rof_limited/rof/hist/selected_data/aggregated_data/selected_variables.ctsm_escomp_irrig_rof_limited.mosart.h0.2000.nc')['lon'].values\n",
    "rof_lat = xr.open_dataset('/glade/scratch/staranu/archive/ctsm_escomp_irrig_rof_limited/rof/hist/selected_data/aggregated_data/selected_variables.ctsm_escomp_irrig_rof_limited.mosart.h0.2000.nc')['lat'].values"
   ]
  },
  {
   "cell_type": "code",
   "execution_count": 269,
   "id": "ec72a95d-347d-457b-9484-c7b9370747e7",
   "metadata": {},
   "outputs": [
    {
     "data": {
      "image/png": "[encoded data removed]",
      "text/plain": [
       "<Figure size 1200x600 with 1 Axes>"
      ]
     },
     "metadata": {},
     "output_type": "display_data"
    }
   ],
   "source": [
    "import matplotlib.pyplot as plt\n",
    "import numpy as np\n",
    "import cartopy.crs as ccrs\n",
    "\n",
    "# Assume lnd_lon, lnd_lat, mask_lnd, rof_lon, rof_lat, mask_rof are known\n",
    "\n",
    "# Plotting the masks\n",
    "fig, ax = plt.subplots(figsize=(12, 6), subplot_kw={'projection': ccrs.PlateCarree()})\n",
    "cmap = plt.get_cmap('Reds')\n",
    "ax.pcolormesh(lnd_lon, lnd_lat, mask_lnd.reshape((lnd_lat.shape[0], lnd_lon.shape[0])), cmap=cmap, transform=ccrs.PlateCarree(), rasterized=True, vmin=0, vmax=1, alpha=0.5)\n",
    "cmap = plt.get_cmap('Blues')\n",
    "ax.pcolormesh(rof_lon, rof_lat, mask_rof.reshape((rof_lat.shape[0], rof_lon.shape[0])), cmap=cmap, transform=ccrs.PlateCarree(), rasterized=True, vmin=0, vmax=1, alpha =0.5)\n",
    "\n",
    "# Remove gridlines and labels\n",
    "#ax.gridlines(draw_labels=False)\n",
    "# ax.outline_patch.set_visible(False)\n",
    "\n",
    "plt.show()\n"
   ]
  },
  {
   "cell_type": "code",
   "execution_count": 260,
   "id": "ae6ff43d-243d-4ff8-a586-a9cc85fb60d0",
   "metadata": {},
   "outputs": [
    {
     "data": {
      "text/plain": [
       "9.223652598141948"
      ]
     },
     "execution_count": 260,
     "metadata": {},
     "output_type": "execute_result"
    }
   ],
   "source": [
    "np.abs(np.nansum(mask_lnd*lndfract)-np.nansum(mask_lnd))/np.nansum(mask_lnd)*100"
   ]
  },
  {
   "cell_type": "code",
   "execution_count": 262,
   "id": "9d25e86a-0e4b-4332-a66f-5d16104df868",
   "metadata": {},
   "outputs": [
    {
     "data": {
      "text/plain": [
       "11.409395973154362"
      ]
     },
     "execution_count": 262,
     "metadata": {},
     "output_type": "execute_result"
    }
   ],
   "source": []
  },
  {
   "cell_type": "code",
   "execution_count": 285,
   "id": "78af229f-f792-47f1-9b3f-719f0320643f",
   "metadata": {},
   "outputs": [
    {
     "name": "stdout",
     "output_type": "stream",
     "text": [
      "Total global LND irrigation withdrawal is: 581.0 km3/year\n"
     ]
    }
   ],
   "source": [
    "# Load the irrigation data from land model\n",
    "# The data is obtained from a simulation with: irrigate=.true. and limit_irrigation_if_rof_enabled=.true.\n",
    "# Transform from mm/s to mm/year\n",
    "# We get mm/year instead of mm/month because we also sum over 12 months of year 2000\n",
    "lnd_irrig_withd = (xr.open_dataset('/glade/scratch/staranu/archive/ctsm_escomp_irrig_rof_limited/lnd/hist/selected_data/aggregated_data/selected_variables.ctsm_escomp_irrig_rof_limited.clm2.h0.2000.nc', decode_times=False)['QIRRIG_FROM_SURFACE']).sum(dim='time')\n",
    "lnd_irrig_withd.values = (lnd_irrig_withd.values.flatten()*lnd_mm_per_s_to_km3_per_month).reshape((lnd_lat.shape[0], lnd_lon.shape[0]))\n",
    "\n",
    "print(\"Total global LND irrigation withdrawal is: \" + str(np.round(np.nansum(lnd_irrig_withd),0)) + \" km3/year\")"
   ]
  },
  {
   "cell_type": "code",
   "execution_count": 284,
   "id": "eb80113d-e4b3-4768-a3c7-91a3bf97e0be",
   "metadata": {},
   "outputs": [
    {
     "name": "stdout",
     "output_type": "stream",
     "text": [
      "Total global ROF irrigation withdrawal is: -581.0 km3/year\n"
     ]
    }
   ],
   "source": [
    "# Load the irrigation data from routing model (mosart)\n",
    "# The data is obtained from a simulation with: irrigate=.true. and limit_irrigation_if_rof_enabled=.true.\n",
    "rof_irrig_withd = xr.open_dataset('/glade/scratch/staranu/archive/ctsm_escomp_irrig_rof_limited/rof/hist/selected_data/aggregated_data/selected_variables.ctsm_escomp_irrig_rof_limited.mosart.h0.2000.nc', decode_times=False)['QIRRIG_ACTUAL'].sum(dim='time')\n",
    "\n",
    "# Transform from m3/s to mm/year\n",
    "# We get mm/year instead of mm/month because in the previous step we do the sum over 12 months of year 2000\n",
    "rof_irrig_withd.values = (rof_irrig_withd.values.flatten()*rof_m3_per_s_to_km3_per_month).reshape((rof_lat.shape[0], rof_lon.shape[0]))\n",
    "\n",
    "print(\"Total global ROF irrigation withdrawal is: \" + str(np.round(np.nansum(rof_irrig_withd),0)) + \" km3/year\")"
   ]
  },
  {
   "cell_type": "code",
   "execution_count": 289,
   "id": "795c9f26-2bc4-479e-a6af-947a9e939198",
   "metadata": {},
   "outputs": [
    {
     "name": "stdout",
     "output_type": "stream",
     "text": [
      "For Asia total LND irrigation is 387.3 km3/year, while total ROF irrigation is 386.7 km3/year.\n",
      "Absolute difference is [LND - ROF]: 0.6 km3/year\n",
      "Relative difference is: [LND - ROF]/[LND]: 0.2 %\n",
      "\n",
      "For North America total LND irrigation is 74.8 km3/year, while total ROF irrigation is 75.3 km3/year.\n",
      "Absolute difference is [LND - ROF]: -0.5 km3/year\n",
      "Relative difference is: [LND - ROF]/[LND]: 0.7 %\n",
      "\n",
      "For Europe total LND irrigation is 34.6 km3/year, while total ROF irrigation is 35.0 km3/year.\n",
      "Absolute difference is [LND - ROF]: -0.5 km3/year\n",
      "Relative difference is: [LND - ROF]/[LND]: 1.3 %\n",
      "\n",
      "For Africa total LND irrigation is 39.3 km3/year, while total ROF irrigation is 41.0 km3/year.\n",
      "Absolute difference is [LND - ROF]: -1.7 km3/year\n",
      "Relative difference is: [LND - ROF]/[LND]: 4.3 %\n",
      "\n",
      "For South America total LND irrigation is 20.6 km3/year, while total ROF irrigation is 21.0 km3/year.\n",
      "Absolute difference is [LND - ROF]: -0.4 km3/year\n",
      "Relative difference is: [LND - ROF]/[LND]: 1.9 %\n",
      "\n",
      "For Oceania total LND irrigation is 0.2 km3/year, while total ROF irrigation is 0.2 km3/year.\n",
      "Absolute difference is [LND - ROF]: -0.0 km3/year\n",
      "Relative difference is: [LND - ROF]/[LND]: 16.2 %\n",
      "\n",
      "For Australia total LND irrigation is 5.4 km3/year, while total ROF irrigation is 5.5 km3/year.\n",
      "Absolute difference is [LND - ROF]: -0.1 km3/year\n",
      "Relative difference is: [LND - ROF]/[LND]: 1.1 %\n",
      "\n",
      "For the entire globe, total lnd irrigation is 581.3 km3/year, while total rof irrigation is 581.4 km3/year.\n",
      "Absolute difference is [LND - ROF]: -0.0 km3/year\n",
      "Relative difference is: [LND - ROF]/[LND]: 0.0 %\n",
      "\n"
     ]
    }
   ],
   "source": [
    "# Comparison at continent level\n",
    "\n",
    "file = pooch.retrieve(\n",
    "    \"https://pubs.usgs.gov/of/2006/1187/basemaps/continents/continents.zip\", None\n",
    ")\n",
    "\n",
    "continents = gp.read_file(\"zip://\" + file)\n",
    "\n",
    "# Initialize some xarrays used for storage and computation\n",
    "delta_irrig_lnd_vs_rof = lnd_irrig_withd.copy(deep=True)*0.0\n",
    "relative_delta_irrig_lnd_vs_rof = lnd_irrig_withd.copy(deep=True)*0.0\n",
    "array_ones = lnd_irrig_withd.copy(deep=True)*0.0 + 1.0\n",
    "\n",
    "# Generate a mask for each continent for both lnd and rof components\n",
    "continents_lnd = regionmask.mask_geopandas(continents, lnd_lon, lnd_lat)\n",
    "continents_rof = regionmask.mask_geopandas(continents, rof_lon, rof_lat)\n",
    "\n",
    "# Each continent gets has its own individual index from 0 to 7\n",
    "continent_index = np.arange(0,8)\n",
    "\n",
    "# Comparison at continent level\n",
    "# Find the absolute and relative difference in irrigation amount between lnd and routing component at each basin level\n",
    "for continent in range(np.max(continent_index)+1): # loop over each continent\n",
    "    continent_lnd_irrig_withd = np.nansum(lnd_irrig_withd.where(continents_lnd == continent)) # for given continent compute total withdrawal for LND component\n",
    "    continent_rof_irrig_withd = (-1.0)*np.nansum(rof_irrig_withd.where(continents_rof == continent)) # for given continent compute total withdrawal for ROF component\n",
    "    \n",
    "    if continent != 7: # no withdrawal in Antarctica\n",
    "        print(\"For \" + str(continents.CONTINENT[continent]) + \" total LND irrigation is \" + str(np.round(continent_lnd_irrig_withd,1)) + \" km3/year, while total ROF irrigation is \" + str(np.round(continent_rof_irrig_withd,1)) + \" km3/year.\")\n",
    "    \n",
    "    delta = continent_lnd_irrig_withd - continent_rof_irrig_withd # compute absolute difference in withdrawal amount for given continent\n",
    "    delta_irrig_lnd_vs_rof = delta_irrig_lnd_vs_rof + (array_ones.where(continents_lnd == continent)*delta).fillna(0) # add this continent difference in withdrawal to the map (masked by continent map)\n",
    "    \n",
    "    if continent != 7: # no withdrawal in Antarctica\n",
    "        relative_delta_irrig_lnd_vs_rof = relative_delta_irrig_lnd_vs_rof + (array_ones.where(continents_lnd == continent)*(delta/continent_lnd_irrig_withd)*100).fillna(0) # compute relative difference for given continent and add its value to the final map\n",
    "      \n",
    "    if continent != 7: # no withdrawal in Antarctica   \n",
    "        print(\"Absolute difference is [LND - ROF]: \" + str(np.round(delta,1)) + \" km3/year\")\n",
    "        print(\"Relative difference is: [LND - ROF]/[LND]: \" + str(np.round(np.abs((delta/continent_lnd_irrig_withd)*100),1)) + \" %\")\n",
    "        print()\n",
    "        \n",
    "print(\"For the entire globe, total lnd irrigation is \" + str(np.round(np.nansum(lnd_irrig_withd),1)) + \" km3/year, while total rof irrigation is \" + str(np.round(np.abs(np.nansum(rof_irrig_withd)),1)) + \" km3/year.\")\n",
    "print(\"Absolute difference is [LND - ROF]: \" + str(np.round(np.nansum(lnd_irrig_withd) - np.abs(np.nansum(rof_irrig_withd)),1)) + \" km3/year\")\n",
    "print(\"Relative difference is: [LND - ROF]/[LND]: \" + str(np.round(np.abs((np.nansum(lnd_irrig_withd) - np.abs(np.nansum(rof_irrig_withd)))/np.nansum(lnd_irrig_withd))*100,1)) + \" %\")\n",
    "print()"
   ]
  },
  {
   "cell_type": "code",
   "execution_count": 162,
   "id": "436a54b6-766a-4d92-a635-a041ec63c06a",
   "metadata": {},
   "outputs": [],
   "source": [
    "# Load the irrigation data from routing model (mosart), but this time the QIRRIG_FROM_COUPLER\n",
    "# The data is obtained from a simulation with: irrigate=.true. and limit_irrigation_if_rof_enabled=.true.\n",
    "rof_irrig_withd_from_coupler = xr.open_dataset('/glade/scratch/staranu/archive/ctsm_escomp_irrig_rof_limited/rof/hist/selected_data/aggregated_data/selected_variables.ctsm_escomp_irrig_rof_limited.mosart.h0.2000.nc', decode_times=False)['QIRRIG_FROM_COUPLER'].sum(dim='time')\n",
    "\n",
    "# Transform from m3/s to mm/year\n",
    "# We get mm/year instead of mm/month because in the previous step we do the sum over 12 months of year 2000\n",
    "rof_irrig_withd_from_coupler.values = (rof_irrig_withd_from_coupler.values.flatten()*rof_m3_per_s_to_mm_per_s*mm_per_s_to_mm_per_month).reshape((rof_lat.shape[0], rof_lon.shape[0]))\n"
   ]
  },
  {
   "cell_type": "code",
   "execution_count": 163,
   "id": "8a810c8f-c849-4da4-9ad8-b49d3485b80e",
   "metadata": {},
   "outputs": [
    {
     "name": "stdout",
     "output_type": "stream",
     "text": [
      "Global actual irrigation withdrawal [ROF]: -53534.0 mm/year\n",
      "Global irrigation withdrawal from the coupler [ROF]: -53534.0 mm/year\n"
     ]
    }
   ],
   "source": [
    "# Compare global actual and from the coupler irrigation withdrawal (ROF component)\n",
    "print(\"Global actual irrigation withdrawal [ROF]: \" + str(np.round(np.nansum(rof_irrig_withd),0)) + \" mm/year\")\n",
    "print(\"Global irrigation withdrawal from the coupler [ROF]: \" + str(np.round(np.nansum(rof_irrig_withd_from_coupler),0)) + \" mm/year\")"
   ]
  },
  {
   "cell_type": "code",
   "execution_count": 303,
   "id": "0ab09ebe-2663-4dfa-b468-ea1083e16165",
   "metadata": {},
   "outputs": [
    {
     "name": "stdout",
     "output_type": "stream",
     "text": [
      "Total global LND domestic withdrawal is: 341.0 km3/year\n",
      "Total global ROF domestic withdrawal is: -340.0 km3/year\n"
     ]
    }
   ],
   "source": [
    "# Load the domestic withdrawal data:\n",
    "lnd_dom_withd = (xr.open_dataset('/glade/scratch/staranu/archive/ctsm_for_pull_request_test1_2/lnd/hist/selected_data/aggregated_data/monthly/selected_variables.ctsm_escomp_irrig_rof_limited.clm2.h0.2000.nc', decode_times=False)['DOM_ACTUAL_WITHD']).sum(dim='time')\n",
    "lnd_dom_withd.values = (lnd_dom_withd.values.flatten()*lnd_mm_per_s_to_km3_per_month).reshape((lnd_lat.shape[0], lnd_lon.shape[0]))\n",
    "                 \n",
    "rof_dom_withd =  (xr.open_dataset('/glade/scratch/staranu/archive/ctsm_for_pull_request_test1_2/rof/hist/selected/aggregated/mon/selected_variables.ctsm_escomp_irrig_rof_limited.mosart.h0.2000.nc', decode_times=False)['QDOM_ACTUAL_WITHD']).sum(dim='time')\n",
    "rof_dom_withd.values = (rof_dom_withd.values.flatten()*rof_m3_per_s_to_km3_per_month).reshape((rof_lat.shape[0], rof_lon.shape[0]))\n",
    "\n",
    "print(\"Total global LND domestic withdrawal is: \" + str(np.round(np.nansum(lnd_dom_withd),0)) + \" km3/year\")\n",
    "print(\"Total global ROF domestic withdrawal is: \" + str(np.round(np.nansum(rof_dom_withd),0)) + \" km3/year\")"
   ]
  },
  {
   "cell_type": "code",
   "execution_count": 305,
   "id": "ab0ff7a8-4f16-4b1c-8934-55af2d53c3a9",
   "metadata": {},
   "outputs": [
    {
     "name": "stdout",
     "output_type": "stream",
     "text": [
      "For Asia total lnd domestic withdrawal is 146.0 km3/year, while total rof domestic withdrawal is 145.0 km3/year.\n",
      "Absolute difference is [LND - ROF]: 1.0 km3/year\n",
      "Relative difference is: [LND - ROF]/[LND]: 0.9 %\n",
      "\n",
      "For North America total lnd domestic withdrawal is 68.0 km3/year, while total rof domestic withdrawal is 70.0 km3/year.\n",
      "Absolute difference is [LND - ROF]: -1.0 km3/year\n",
      "Relative difference is: [LND - ROF]/[LND]: 2.1 %\n",
      "\n",
      "For Europe total lnd domestic withdrawal is 62.0 km3/year, while total rof domestic withdrawal is 62.0 km3/year.\n",
      "Absolute difference is [LND - ROF]: -0.0 km3/year\n",
      "Relative difference is: [LND - ROF]/[LND]: 0.3 %\n",
      "\n",
      "For Africa total lnd domestic withdrawal is 23.0 km3/year, while total rof domestic withdrawal is 23.0 km3/year.\n",
      "Absolute difference is [LND - ROF]: -0.0 km3/year\n",
      "Relative difference is: [LND - ROF]/[LND]: 0.5 %\n",
      "\n",
      "For South America total lnd domestic withdrawal is 25.0 km3/year, while total rof domestic withdrawal is 25.0 km3/year.\n",
      "Absolute difference is [LND - ROF]: 0.0 km3/year\n",
      "Relative difference is: [LND - ROF]/[LND]: 0.5 %\n",
      "\n",
      "For Oceania total lnd domestic withdrawal is 0.0 km3/year, while total rof domestic withdrawal is 0.0 km3/year.\n",
      "Absolute difference is [LND - ROF]: -0.0 km3/year\n",
      "Relative difference is: [LND - ROF]/[LND]: 4.5 %\n",
      "\n",
      "For Australia total lnd domestic withdrawal is 3.0 km3/year, while total rof domestic withdrawal is 4.0 km3/year.\n",
      "Absolute difference is [LND - ROF]: -1.0 km3/year\n",
      "Relative difference is: [LND - ROF]/[LND]: 22.8 %\n",
      "\n",
      "For the entire globe, total lnd domestic withdrawal is 341.0 km3/year, while total rof domestic withdrawal is 340.0 km3/year.\n",
      "Absolute difference is [LND - ROF]: 1.0 km3/year\n",
      "Relative difference is: [LND - ROF]/[LND]: 0.4 %\n",
      "\n"
     ]
    }
   ],
   "source": [
    "# Comparison at continent level\n",
    "\n",
    "file = pooch.retrieve(\n",
    "    \"https://pubs.usgs.gov/of/2006/1187/basemaps/continents/continents.zip\", None\n",
    ")\n",
    "\n",
    "continents = gp.read_file(\"zip://\" + file)\n",
    "\n",
    "# Initialize some xarrays used for storage and computation\n",
    "delta_dom_lnd_vs_rof = lnd_dom_withd.copy(deep=True)*0.0\n",
    "relative_delta_dom_lnd_vs_rof = lnd_dom_withd.copy(deep=True)*0.0\n",
    "array_ones = lnd_dom_withd.copy(deep=True)*0.0 + 1.0\n",
    "\n",
    "# Generate a mask for each continent for both lnd and rof components\n",
    "continents_lnd = regionmask.mask_geopandas(continents, lnd_lon, lnd_lat)\n",
    "continents_rof = regionmask.mask_geopandas(continents, rof_lon, rof_lat)\n",
    "\n",
    "# Each continent gets has its own individual index from 0 to 7\n",
    "continent_index = np.arange(0,8)\n",
    "\n",
    "# Comparison at continent level\n",
    "# Find the absolute and relative difference in domestic withdrawal amount between lnd and routing component at each basin level\n",
    "for continent in range(np.max(continent_index)+1): # loop over each continent\n",
    "    continent_lnd_dom_withd = np.nansum(lnd_dom_withd.where(continents_lnd == continent)) # for given continent compute total withdrawal for LND component\n",
    "    continent_rof_dom_withd = (-1.0)*np.nansum(rof_dom_withd.where(continents_rof == continent)) # for given continent compute total withdrawal for ROF component\n",
    "    \n",
    "    if continent != 7: # no withdrawal in Antarctica\n",
    "        print(\"For \" + str(continents.CONTINENT[continent]) + \" total lnd domestic withdrawal is \" + str(np.round(continent_lnd_dom_withd,0)) + \" km3/year, while total rof domestic withdrawal is \" + str(np.round(continent_rof_dom_withd,0)) + \" km3/year.\")\n",
    "    \n",
    "    delta = continent_lnd_dom_withd - continent_rof_dom_withd # compute absolute difference in withdrawal amount for given continent\n",
    "    delta_dom_lnd_vs_rof = delta_dom_lnd_vs_rof + (array_ones.where(continents_lnd == continent)*delta).fillna(0) # add this continent difference in withdrawal to the map (masked by continent map)\n",
    "    \n",
    "    if continent != 7: # no withdrawal in Antarctica\n",
    "        relative_delta_dom_lnd_vs_rof = relative_delta_dom_lnd_vs_rof + (array_ones.where(continents_lnd == continent)*(delta/continent_lnd_dom_withd)*100).fillna(0) # compute relative difference for given continent and add its value to the final map\n",
    "      \n",
    "    if continent != 7: # no withdrawal in Antarctica   \n",
    "        print(\"Absolute difference is [LND - ROF]: \" + str(np.round(delta,0)) + \" km3/year\")\n",
    "        print(\"Relative difference is: [LND - ROF]/[LND]: \" + str(np.round(np.abs((delta/continent_lnd_dom_withd)*100),1)) + \" %\")\n",
    "        print()\n",
    "\n",
    "print(\"For the entire globe, total lnd domestic withdrawal is \" + str(np.round(np.nansum(lnd_dom_withd),0)) + \" km3/year, while total rof domestic withdrawal is \" + str(np.round(np.abs(np.nansum(rof_dom_withd)),0)) + \" km3/year.\")\n",
    "print(\"Absolute difference is [LND - ROF]: \" + str(np.round(np.nansum(lnd_dom_withd) - np.abs(np.nansum(rof_dom_withd)),0)) + \" km3/year\")\n",
    "print(\"Relative difference is: [LND - ROF]/[LND]: \" + str(np.round(np.abs((np.nansum(lnd_dom_withd) - np.abs(np.nansum(rof_dom_withd)))/np.nansum(lnd_dom_withd))*100,1)) + \" %\")\n",
    "print()"
   ]
  },
  {
   "cell_type": "code",
   "execution_count": 307,
   "id": "03fe6099-1443-4c0a-bee2-2e4656aa5310",
   "metadata": {},
   "outputs": [
    {
     "name": "stdout",
     "output_type": "stream",
     "text": [
      "Total global LND livestock withdrawal is: 98.0 km3/year\n",
      "Total global ROF livestock withdrawal is: -97.0 km3/year\n"
     ]
    }
   ],
   "source": [
    "# Load the livestock withdrawal data:\n",
    "lnd_liv_withd = (xr.open_dataset('/glade/scratch/staranu/archive/ctsm_for_pull_request_test1_2/lnd/hist/selected_data/aggregated_data/monthly/selected_variables.ctsm_escomp_irrig_rof_limited.clm2.h0.2000.nc', decode_times=False)['LIV_ACTUAL_WITHD']).sum(dim='time')\n",
    "lnd_liv_withd.values = (lnd_liv_withd.values.flatten()*lnd_mm_per_s_to_km3_per_month).reshape((lnd_lat.shape[0], lnd_lon.shape[0]))\n",
    "                 \n",
    "rof_liv_withd =  (xr.open_dataset('/glade/scratch/staranu/archive/ctsm_for_pull_request_test1_2/rof/hist/selected/aggregated/mon/selected_variables.ctsm_escomp_irrig_rof_limited.mosart.h0.2000.nc', decode_times=False)['QLIV_ACTUAL_WITHD']).sum(dim='time')\n",
    "rof_liv_withd.values = (rof_liv_withd.values.flatten()*rof_m3_per_s_to_km3_per_month).reshape((rof_lat.shape[0], rof_lon.shape[0]))\n",
    "\n",
    "print(\"Total global LND livestock withdrawal is: \" + str(np.round(np.nansum(lnd_liv_withd),0)) + \" km3/year\")\n",
    "print(\"Total global ROF livestock withdrawal is: \" + str(np.round(np.nansum(rof_liv_withd),0)) + \" km3/year\")"
   ]
  },
  {
   "cell_type": "code",
   "execution_count": 308,
   "id": "70026197-ebe5-40d9-bde3-2e42573d292d",
   "metadata": {},
   "outputs": [
    {
     "name": "stdout",
     "output_type": "stream",
     "text": [
      "For Asia total LND livestock withdrawal is 54.1 km3/year, while total ROF livestock withdrawal is 53.6 km3/year.\n",
      "Absolute difference is [LND - ROF]: 0.5 km3/year\n",
      "Relative difference is: [LND - ROF]/[LND]: 0.9 %\n",
      "\n",
      "For North America total LND livestock withdrawal is 11.6 km3/year, while total ROF livestock withdrawal is 11.6 km3/year.\n",
      "Absolute difference is [LND - ROF]: 0.0 km3/year\n",
      "Relative difference is: [LND - ROF]/[LND]: 0.2 %\n",
      "\n",
      "For Europe total LND livestock withdrawal is 7.7 km3/year, while total ROF livestock withdrawal is 7.7 km3/year.\n",
      "Absolute difference is [LND - ROF]: -0.0 km3/year\n",
      "Relative difference is: [LND - ROF]/[LND]: 0.5 %\n",
      "\n",
      "For Africa total LND livestock withdrawal is 10.1 km3/year, while total ROF livestock withdrawal is 9.9 km3/year.\n",
      "Absolute difference is [LND - ROF]: 0.2 km3/year\n",
      "Relative difference is: [LND - ROF]/[LND]: 2.2 %\n",
      "\n",
      "For South America total LND livestock withdrawal is 5.9 km3/year, while total ROF livestock withdrawal is 5.7 km3/year.\n",
      "Absolute difference is [LND - ROF]: 0.2 km3/year\n",
      "Relative difference is: [LND - ROF]/[LND]: 3.3 %\n",
      "\n",
      "For Oceania total LND livestock withdrawal is 0.1 km3/year, while total ROF livestock withdrawal is 0.1 km3/year.\n",
      "Absolute difference is [LND - ROF]: -0.0 km3/year\n",
      "Relative difference is: [LND - ROF]/[LND]: 3.3 %\n",
      "\n",
      "For Australia total LND livestock withdrawal is 6.7 km3/year, while total ROF livestock withdrawal is 6.7 km3/year.\n",
      "Absolute difference is [LND - ROF]: -0.0 km3/year\n",
      "Relative difference is: [LND - ROF]/[LND]: 0.1 %\n",
      "\n",
      "For the entire globe, total LND livestock withdrawal is 97.7 km3/year, while total ROF livestock withdrawal is 97.1 km3/year.\n",
      "Absolute difference is [LND - ROF]: 0.6 km3/year\n",
      "Relative difference is: [LND - ROF]/[LND]: 0.6 %\n",
      "\n"
     ]
    }
   ],
   "source": [
    "# Comparison at continent level\n",
    "\n",
    "file = pooch.retrieve(\n",
    "    \"https://pubs.usgs.gov/of/2006/1187/basemaps/continents/continents.zip\", None\n",
    ")\n",
    "\n",
    "continents = gp.read_file(\"zip://\" + file)\n",
    "\n",
    "# Initialize some xarrays used for storage and computation\n",
    "delta_liv_lnd_vs_rof = lnd_liv_withd.copy(deep=True)*0.0\n",
    "relative_delta_liv_lnd_vs_rof = lnd_liv_withd.copy(deep=True)*0.0\n",
    "array_ones = lnd_liv_withd.copy(deep=True)*0.0 + 1.0\n",
    "\n",
    "# Generate a mask for each continent for both lnd and rof components\n",
    "continents_lnd = regionmask.mask_geopandas(continents, lnd_lon, lnd_lat)\n",
    "continents_rof = regionmask.mask_geopandas(continents, rof_lon, rof_lat)\n",
    "\n",
    "# Each continent gets has its own individual index from 0 to 7\n",
    "continent_index = np.arange(0,8)\n",
    "\n",
    "# Comparison at continent level\n",
    "# Find the absolute and relative difference in livestock withdrawal amount between lnd and routing component at each basin level\n",
    "for continent in range(np.max(continent_index)+1): # loop over each continent\n",
    "    continent_lnd_liv_withd = np.nansum(lnd_liv_withd.where(continents_lnd == continent)) # for given continent compute total withdrawal for LND component\n",
    "    continent_rof_liv_withd = (-1.0)*np.nansum(rof_liv_withd.where(continents_rof == continent)) # for given continent compute total withdrawal for ROF component\n",
    "    \n",
    "    if continent != 7: # no withdrawal in Antarctica\n",
    "        print(\"For \" + str(continents.CONTINENT[continent]) + \" total LND livestock withdrawal is \" + str(np.round(continent_lnd_liv_withd,1)) + \" km3/year, while total ROF livestock withdrawal is \" + str(np.round(continent_rof_liv_withd,1)) + \" km3/year.\")\n",
    "    \n",
    "    delta = continent_lnd_liv_withd - continent_rof_liv_withd # compute absolute difference in withdrawal amount for given continent\n",
    "    delta_liv_lnd_vs_rof = delta_liv_lnd_vs_rof + (array_ones.where(continents_lnd == continent)*delta).fillna(0) # add this continent difference in withdrawal to the map (masked by continent map)\n",
    "    \n",
    "    if continent != 7: # no withdrawal in Antarctica\n",
    "        relative_delta_liv_lnd_vs_rof = relative_delta_liv_lnd_vs_rof + (array_ones.where(continents_lnd == continent)*(delta/continent_lnd_liv_withd)*100).fillna(0) # compute relative difference for given continent and add its value to the final map\n",
    "      \n",
    "    if continent != 7: # no withdrawal in Antarctica   \n",
    "        print(\"Absolute difference is [LND - ROF]: \" + str(np.round(delta,1)) + \" km3/year\")\n",
    "        print(\"Relative difference is: [LND - ROF]/[LND]: \" + str(np.round(np.abs((delta/continent_lnd_liv_withd)*100),1)) + \" %\")\n",
    "        print()\n",
    "        \n",
    "print(\"For the entire globe, total LND livestock withdrawal is \" + str(np.round(np.nansum(lnd_liv_withd),1)) + \" km3/year, while total ROF livestock withdrawal is \" + str(np.round(np.abs(np.nansum(rof_liv_withd)),1)) + \" km3/year.\")\n",
    "print(\"Absolute difference is [LND - ROF]: \" + str(np.round(np.nansum(lnd_liv_withd) - np.abs(np.nansum(rof_liv_withd)),1)) + \" km3/year\")\n",
    "print(\"Relative difference is: [LND - ROF]/[LND]: \" + str(np.round(np.abs((np.nansum(lnd_liv_withd) - np.abs(np.nansum(rof_liv_withd)))/np.nansum(lnd_liv_withd))*100,1)) + \" %\")\n",
    "print()"
   ]
  },
  {
   "cell_type": "code",
   "execution_count": 309,
   "id": "23305c4b-d419-4824-b851-f63ad27b2f4a",
   "metadata": {},
   "outputs": [
    {
     "name": "stdout",
     "output_type": "stream",
     "text": [
      "Total global LND thermoelectric withdrawal is: 409.0 km3/year\n",
      "Total global ROF thermoelectric withdrawal is: -408.0 km3/year\n"
     ]
    }
   ],
   "source": [
    "# Load the thermoelectric withdrawal data:\n",
    "lnd_elec_withd = (xr.open_dataset('/glade/scratch/staranu/archive/ctsm_for_pull_request_test1_2/lnd/hist/selected_data/aggregated_data/monthly/selected_variables.ctsm_escomp_irrig_rof_limited.clm2.h0.2000.nc', decode_times=False)['ELEC_ACTUAL_WITHD']).sum(dim='time')\n",
    "lnd_elec_withd.values = (lnd_elec_withd.values.flatten()*lnd_mm_per_s_to_km3_per_month).reshape((lnd_lat.shape[0], lnd_lon.shape[0]))\n",
    "                 \n",
    "rof_elec_withd =  (xr.open_dataset('/glade/scratch/staranu/archive/ctsm_for_pull_request_test1_2/rof/hist/selected/aggregated/mon/selected_variables.ctsm_escomp_irrig_rof_limited.mosart.h0.2000.nc', decode_times=False)['QELEC_ACTUAL_WITHD']).sum(dim='time')\n",
    "rof_elec_withd.values = (rof_elec_withd.values.flatten()*rof_m3_per_s_to_km3_per_month).reshape((rof_lat.shape[0], rof_lon.shape[0]))\n",
    "\n",
    "print(\"Total global LND thermoelectric withdrawal is: \" + str(np.round(np.nansum(lnd_elec_withd),0)) + \" km3/year\")\n",
    "print(\"Total global ROF thermoelectric withdrawal is: \" + str(np.round(np.nansum(rof_elec_withd),0)) + \" km3/year\")"
   ]
  },
  {
   "cell_type": "code",
   "execution_count": 310,
   "id": "b287d682-c7d3-4501-acdf-52c80794cfad",
   "metadata": {},
   "outputs": [
    {
     "name": "stdout",
     "output_type": "stream",
     "text": [
      "For Asia total LND thermoelectric withdrawal is 91.8 mm/year, while total ROF thermoelectric withdrawal is 89.8 mm/year.\n",
      "Absolute difference is [LND - ROF]: 2.0 mm/year\n",
      "Relative difference is: [LND - ROF]/[LND]: 2.1 %\n",
      "\n",
      "For North America total LND thermoelectric withdrawal is 204.6 mm/year, while total ROF thermoelectric withdrawal is 206.0 mm/year.\n",
      "Absolute difference is [LND - ROF]: -1.4 mm/year\n",
      "Relative difference is: [LND - ROF]/[LND]: 0.7 %\n",
      "\n",
      "For Europe total LND thermoelectric withdrawal is 98.5 mm/year, while total ROF thermoelectric withdrawal is 98.7 mm/year.\n",
      "Absolute difference is [LND - ROF]: -0.2 mm/year\n",
      "Relative difference is: [LND - ROF]/[LND]: 0.2 %\n",
      "\n",
      "For Africa total LND thermoelectric withdrawal is 3.5 mm/year, while total ROF thermoelectric withdrawal is 3.4 mm/year.\n",
      "Absolute difference is [LND - ROF]: 0.0 mm/year\n",
      "Relative difference is: [LND - ROF]/[LND]: 1.1 %\n",
      "\n",
      "For South America total LND thermoelectric withdrawal is 2.6 mm/year, while total ROF thermoelectric withdrawal is 2.6 mm/year.\n",
      "Absolute difference is [LND - ROF]: 0.1 mm/year\n",
      "Relative difference is: [LND - ROF]/[LND]: 2.3 %\n",
      "\n",
      "For Oceania total LND thermoelectric withdrawal is 0.0 mm/year, while total ROF thermoelectric withdrawal is 0.0 mm/year.\n",
      "Absolute difference is [LND - ROF]: -0.0 mm/year\n",
      "Relative difference is: [LND - ROF]/[LND]: 3.2 %\n",
      "\n",
      "For Australia total LND thermoelectric withdrawal is 0.7 mm/year, while total ROF thermoelectric withdrawal is 0.8 mm/year.\n",
      "Absolute difference is [LND - ROF]: -0.2 mm/year\n",
      "Relative difference is: [LND - ROF]/[LND]: 22.6 %\n",
      "\n",
      "For the entire globe, total LND thermoelectric withdrawal is 409.0 mm/year, while total ROF thermoelectric withdrawal is 407.9 mm/year.\n",
      "Absolute difference is [LND - ROF]: 1.1 mm/year\n",
      "Relative difference is: [LND - ROF]/[LND]: 0.3 %\n",
      "\n"
     ]
    }
   ],
   "source": [
    "# Comparison at continent level\n",
    "\n",
    "file = pooch.retrieve(\n",
    "    \"https://pubs.usgs.gov/of/2006/1187/basemaps/continents/continents.zip\", None\n",
    ")\n",
    "\n",
    "continents = gp.read_file(\"zip://\" + file)\n",
    "\n",
    "# Initialize some xarrays used for storage and computation\n",
    "delta_elec_lnd_vs_rof = lnd_elec_withd.copy(deep=True)*0.0\n",
    "relative_delta_elec_lnd_vs_rof = lnd_elec_withd.copy(deep=True)*0.0\n",
    "array_ones = lnd_elec_withd.copy(deep=True)*0.0 + 1.0\n",
    "\n",
    "# Generate a mask for each continent for both lnd and rof components\n",
    "continents_lnd = regionmask.mask_geopandas(continents, lnd_lon, lnd_lat)\n",
    "continents_rof = regionmask.mask_geopandas(continents, rof_lon, rof_lat)\n",
    "\n",
    "# Each continent gets has its own individual index from 0 to 7\n",
    "continent_index = np.arange(0,8)\n",
    "\n",
    "# Comparison at continent level\n",
    "# Find the absolute and relative difference in thermoelectric withdrawal amount between lnd and routing component at each basin level\n",
    "for continent in range(np.max(continent_index)+1): # loop over each continent\n",
    "    continent_lnd_elec_withd = np.nansum(lnd_elec_withd.where(continents_lnd == continent)) # for given continent compute total withdrawal for LND component\n",
    "    continent_rof_elec_withd = (-1.0)*np.nansum(rof_elec_withd.where(continents_rof == continent)) # for given continent compute total withdrawal for ROF component\n",
    "    \n",
    "    if continent != 7: # no withdrawal in Antarctica\n",
    "        print(\"For \" + str(continents.CONTINENT[continent]) + \" total LND thermoelectric withdrawal is \" + str(np.round(continent_lnd_elec_withd,1)) + \" mm/year, while total ROF thermoelectric withdrawal is \" + str(np.round(continent_rof_elec_withd,1)) + \" mm/year.\")\n",
    "    \n",
    "    delta = continent_lnd_elec_withd - continent_rof_elec_withd # compute absolute difference in withdrawal amount for given continent\n",
    "    delta_elec_lnd_vs_rof = delta_elec_lnd_vs_rof + (array_ones.where(continents_lnd == continent)*delta).fillna(0) # add this continent difference in withdrawal to the map (masked by continent map)\n",
    "    \n",
    "    if continent != 7: # no withdrawal in Antarctica\n",
    "        relative_delta_elec_lnd_vs_rof = relative_delta_elec_lnd_vs_rof + (array_ones.where(continents_lnd == continent)*(delta/continent_lnd_elec_withd)*100).fillna(0) # compute relative difference for given continent and add its value to the final map\n",
    "      \n",
    "    if continent != 7: # no withdrawal in Antarctica   \n",
    "        print(\"Absolute difference is [LND - ROF]: \" + str(np.round(delta,1)) + \" mm/year\")\n",
    "        print(\"Relative difference is: [LND - ROF]/[LND]: \" + str(np.round(np.abs((delta/continent_lnd_elec_withd)*100),1)) + \" %\")\n",
    "        print()\n",
    "        \n",
    "print(\"For the entire globe, total LND thermoelectric withdrawal is \" + str(np.round(np.nansum(lnd_elec_withd),1)) + \" mm/year, while total ROF thermoelectric withdrawal is \" + str(np.round(np.abs(np.nansum(rof_elec_withd)),1)) + \" mm/year.\")\n",
    "print(\"Absolute difference is [LND - ROF]: \" + str(np.round(np.nansum(lnd_elec_withd) - np.abs(np.nansum(rof_elec_withd)),1)) + \" mm/year\")\n",
    "print(\"Relative difference is: [LND - ROF]/[LND]: \" + str(np.round(np.abs((np.nansum(lnd_elec_withd) - np.abs(np.nansum(rof_elec_withd)))/np.nansum(lnd_elec_withd))*100,1)) + \" %\")\n",
    "print()  "
   ]
  },
  {
   "cell_type": "code",
   "execution_count": 313,
   "id": "259ccf92-c30e-4568-96c1-a5ded4b5dce6",
   "metadata": {},
   "outputs": [
    {
     "name": "stdout",
     "output_type": "stream",
     "text": [
      "Total global LND manufacturing withdrawal is: 226.0 km3/year\n",
      "Total global ROF manufacturing withdrawal is: -225.0 km3/year\n"
     ]
    }
   ],
   "source": [
    "# Load the manufacturing withdrawal data:\n",
    "lnd_mfc_withd = (xr.open_dataset('/glade/scratch/staranu/archive/ctsm_for_pull_request_test1_2/lnd/hist/selected_data/aggregated_data/monthly/selected_variables.ctsm_escomp_irrig_rof_limited.clm2.h0.2000.nc', decode_times=False)['MFC_ACTUAL_WITHD']).sum(dim='time')\n",
    "lnd_mfc_withd.values = (lnd_mfc_withd.values.flatten()*lnd_mm_per_s_to_km3_per_month).reshape((lnd_lat.shape[0], lnd_lon.shape[0]))\n",
    "                 \n",
    "rof_mfc_withd =  (xr.open_dataset('/glade/scratch/staranu/archive/ctsm_for_pull_request_test1_2/rof/hist/selected/aggregated/mon/selected_variables.ctsm_escomp_irrig_rof_limited.mosart.h0.2000.nc', decode_times=False)['QMFC_ACTUAL_WITHD']).sum(dim='time')\n",
    "rof_mfc_withd.values = (rof_mfc_withd.values.flatten()*rof_m3_per_s_to_km3_per_month).reshape((rof_lat.shape[0], rof_lon.shape[0]))\n",
    "\n",
    "print(\"Total global LND manufacturing withdrawal is: \" + str(np.round(np.nansum(lnd_mfc_withd),0)) + \" km3/year\")\n",
    "print(\"Total global ROF manufacturing withdrawal is: \" + str(np.round(np.nansum(rof_mfc_withd),0)) + \" km3/year\")"
   ]
  },
  {
   "cell_type": "code",
   "execution_count": 315,
   "id": "1bb5503e-05a8-4d91-9998-012dfde365f9",
   "metadata": {},
   "outputs": [
    {
     "name": "stdout",
     "output_type": "stream",
     "text": [
      "For Asia total LND manufacturing withdrawal is 100.0 mm/year, while total ROF manufacturing withdrawal is 98.5 mm/year.\n",
      "Absolute difference is [LND - ROF]: 1.5 mm/year\n",
      "Relative difference is: [LND - ROF]/[LND]: 1.5 %\n",
      "\n",
      "For North America total LND manufacturing withdrawal is 31.5 mm/year, while total ROF manufacturing withdrawal is 32.0 mm/year.\n",
      "Absolute difference is [LND - ROF]: -0.4 mm/year\n",
      "Relative difference is: [LND - ROF]/[LND]: 1.3 %\n",
      "\n",
      "For Europe total LND manufacturing withdrawal is 70.4 mm/year, while total ROF manufacturing withdrawal is 70.5 mm/year.\n",
      "Absolute difference is [LND - ROF]: -0.1 mm/year\n",
      "Relative difference is: [LND - ROF]/[LND]: 0.2 %\n",
      "\n",
      "For Africa total LND manufacturing withdrawal is 5.2 mm/year, while total ROF manufacturing withdrawal is 5.1 mm/year.\n",
      "Absolute difference is [LND - ROF]: 0.0 mm/year\n",
      "Relative difference is: [LND - ROF]/[LND]: 0.5 %\n",
      "\n",
      "For South America total LND manufacturing withdrawal is 11.7 mm/year, while total ROF manufacturing withdrawal is 11.6 mm/year.\n",
      "Absolute difference is [LND - ROF]: 0.2 mm/year\n",
      "Relative difference is: [LND - ROF]/[LND]: 1.5 %\n",
      "\n",
      "For Oceania total LND manufacturing withdrawal is 0.0 mm/year, while total ROF manufacturing withdrawal is 0.0 mm/year.\n",
      "Absolute difference is [LND - ROF]: -0.0 mm/year\n",
      "Relative difference is: [LND - ROF]/[LND]: 3.6 %\n",
      "\n",
      "For Australia total LND manufacturing withdrawal is 0.7 mm/year, while total ROF manufacturing withdrawal is 0.9 mm/year.\n",
      "Absolute difference is [LND - ROF]: -0.2 mm/year\n",
      "Relative difference is: [LND - ROF]/[LND]: 22.7 %\n",
      "\n",
      "For the entire globe, total LND manufacturing withdrawal is 226.3 mm/year, while total ROF manufacturing withdrawal is 225.3 mm/year.\n",
      "Absolute difference is [LND - ROF]: 1.0 mm/year\n",
      "Relative difference is: [LND - ROF]/[LND]: 0.4 %\n",
      "\n"
     ]
    }
   ],
   "source": [
    "# Comparison at continent level\n",
    "\n",
    "file = pooch.retrieve(\n",
    "    \"https://pubs.usgs.gov/of/2006/1187/basemaps/continents/continents.zip\", None\n",
    ")\n",
    "\n",
    "continents = gp.read_file(\"zip://\" + file)\n",
    "\n",
    "# Initialize some xarrays used for storage and computation\n",
    "delta_mfc_lnd_vs_rof = lnd_mfc_withd.copy(deep=True)*0.0\n",
    "relative_delta_mfc_lnd_vs_rof = lnd_mfc_withd.copy(deep=True)*0.0\n",
    "array_ones = lnd_mfc_withd.copy(deep=True)*0.0 + 1.0\n",
    "\n",
    "# Generate a mask for each continent for both lnd and rof components\n",
    "continents_lnd = regionmask.mask_geopandas(continents, lnd_lon, lnd_lat)\n",
    "continents_rof = regionmask.mask_geopandas(continents, rof_lon, rof_lat)\n",
    "\n",
    "# Each continent gets has its own individual index from 0 to 7\n",
    "continent_index = np.arange(0,8)\n",
    "\n",
    "# Comparison at continent level\n",
    "# Find the absolute and relative difference in manufacturing withdrawal amount between lnd and routing component at each basin level\n",
    "for continent in range(np.max(continent_index)+1): # loop over each continent\n",
    "    continent_lnd_mfc_withd = np.nansum(lnd_mfc_withd.where(continents_lnd == continent)) # for given continent compute total withdrawal for LND component\n",
    "    continent_rof_mfc_withd = (-1.0)*np.nansum(rof_mfc_withd.where(continents_rof == continent)) # for given continent compute total withdrawal for ROF component\n",
    "    \n",
    "    if continent != 7: # no withdrawal in Antarctica\n",
    "        print(\"For \" + str(continents.CONTINENT[continent]) + \" total LND manufacturing withdrawal is \" + str(np.round(continent_lnd_mfc_withd,1)) + \" mm/year, while total ROF manufacturing withdrawal is \" + str(np.round(continent_rof_mfc_withd,1)) + \" mm/year.\")\n",
    "    \n",
    "    delta = continent_lnd_mfc_withd - continent_rof_mfc_withd # compute absolute difference in withdrawal amount for given continent\n",
    "    delta_mfc_lnd_vs_rof = delta_mfc_lnd_vs_rof + (array_ones.where(continents_lnd == continent)*delta).fillna(0) # add this continent difference in withdrawal to the map (masked by continent map)\n",
    "    \n",
    "    if continent != 7: # no withdrawal in Antarctica\n",
    "        relative_delta_mfc_lnd_vs_rof = relative_delta_mfc_lnd_vs_rof + (array_ones.where(continents_lnd == continent)*(delta/continent_lnd_mfc_withd)*100).fillna(0) # compute relative difference for given continent and add its value to the final map\n",
    "      \n",
    "    if continent != 7: # no withdrawal in Antarctica   \n",
    "        print(\"Absolute difference is [LND - ROF]: \" + str(np.round(delta,1)) + \" mm/year\")\n",
    "        print(\"Relative difference is: [LND - ROF]/[LND]: \" + str(np.round(np.abs((delta/continent_lnd_mfc_withd)*100),1)) + \" %\")\n",
    "        print()\n",
    "        \n",
    "print(\"For the entire globe, total LND manufacturing withdrawal is \" + str(np.round(np.nansum(lnd_mfc_withd),1)) + \" mm/year, while total ROF manufacturing withdrawal is \" + str(np.round(np.abs(np.nansum(rof_mfc_withd)),1)) + \" mm/year.\")\n",
    "print(\"Absolute difference is [LND - ROF]: \" + str(np.round(np.nansum(lnd_mfc_withd) - np.abs(np.nansum(rof_mfc_withd)),1)) + \" mm/year\")\n",
    "print(\"Relative difference is: [LND - ROF]/[LND]: \" + str(np.round(np.abs((np.nansum(lnd_mfc_withd) - np.abs(np.nansum(rof_mfc_withd)))/np.nansum(lnd_mfc_withd))*100,1)) + \" %\")\n",
    "print()  "
   ]
  },
  {
   "cell_type": "code",
   "execution_count": 320,
   "id": "9fdd3179-effc-4149-82cb-a59b7621c373",
   "metadata": {},
   "outputs": [
    {
     "name": "stdout",
     "output_type": "stream",
     "text": [
      "Total global LND mining withdrawal is: 20.0 km3/year\n",
      "Total global ROF mining withdrawal is: -20.0 km3/year\n"
     ]
    }
   ],
   "source": [
    "# Load the mining withdrawal data:\n",
    "lnd_min_withd = (xr.open_dataset('/glade/scratch/staranu/archive/ctsm_for_pull_request_test1_2/lnd/hist/selected_data/aggregated_data/monthly/selected_variables.ctsm_escomp_irrig_rof_limited.clm2.h0.2000.nc', decode_times=False)['MIN_ACTUAL_WITHD']).sum(dim='time')\n",
    "lnd_min_withd.values = (lnd_min_withd.values.flatten()*lnd_mm_per_s_to_km3_per_month).reshape((lnd_lat.shape[0], lnd_lon.shape[0]))\n",
    "                 \n",
    "rof_min_withd =  (xr.open_dataset('/glade/scratch/staranu/archive/ctsm_for_pull_request_test1_2/rof/hist/selected/aggregated/mon/selected_variables.ctsm_escomp_irrig_rof_limited.mosart.h0.2000.nc', decode_times=False)['QMIN_ACTUAL_WITHD']).sum(dim='time')\n",
    "rof_min_withd.values = (rof_min_withd.values.flatten()*rof_m3_per_s_to_km3_per_month).reshape((rof_lat.shape[0], rof_lon.shape[0]))\n",
    "\n",
    "print(\"Total global LND mining withdrawal is: \" + str(np.round(np.nansum(lnd_min_withd),0)) + \" km3/year\")\n",
    "print(\"Total global ROF mining withdrawal is: \" + str(np.round(np.nansum(rof_min_withd),0)) + \" km3/year\")"
   ]
  },
  {
   "cell_type": "code",
   "execution_count": 321,
   "id": "5316c57b-b0ae-4e78-98b8-3f2f661c1595",
   "metadata": {},
   "outputs": [
    {
     "name": "stdout",
     "output_type": "stream",
     "text": [
      "For Asia total LND mining withdrawal is 9.0 mm/year, while total ROF mining withdrawal is 8.9 mm/year.\n",
      "Absolute difference is [LND - ROF]: 0.1 mm/year\n",
      "Relative difference is: [LND - ROF]/[LND]: 1.0 %\n",
      "\n",
      "For North America total LND mining withdrawal is 4.4 mm/year, while total ROF mining withdrawal is 4.5 mm/year.\n",
      "Absolute difference is [LND - ROF]: -0.1 mm/year\n",
      "Relative difference is: [LND - ROF]/[LND]: 1.3 %\n",
      "\n",
      "For Europe total LND mining withdrawal is 4.4 mm/year, while total ROF mining withdrawal is 4.4 mm/year.\n",
      "Absolute difference is [LND - ROF]: -0.0 mm/year\n",
      "Relative difference is: [LND - ROF]/[LND]: 0.4 %\n",
      "\n",
      "For Africa total LND mining withdrawal is 0.9 mm/year, while total ROF mining withdrawal is 0.9 mm/year.\n",
      "Absolute difference is [LND - ROF]: 0.0 mm/year\n",
      "Relative difference is: [LND - ROF]/[LND]: 1.7 %\n",
      "\n",
      "For South America total LND mining withdrawal is 1.1 mm/year, while total ROF mining withdrawal is 1.0 mm/year.\n",
      "Absolute difference is [LND - ROF]: 0.0 mm/year\n",
      "Relative difference is: [LND - ROF]/[LND]: 1.8 %\n",
      "\n",
      "For Oceania total LND mining withdrawal is 0.0 mm/year, while total ROF mining withdrawal is 0.0 mm/year.\n",
      "Absolute difference is [LND - ROF]: -0.0 mm/year\n",
      "Relative difference is: [LND - ROF]/[LND]: 3.7 %\n",
      "\n",
      "For Australia total LND mining withdrawal is 0.0 mm/year, while total ROF mining withdrawal is 0.1 mm/year.\n",
      "Absolute difference is [LND - ROF]: -0.0 mm/year\n",
      "Relative difference is: [LND - ROF]/[LND]: 22.7 %\n",
      "\n",
      "For the entire globe, total LND mining withdrawal is 20.4 mm/year, while total ROF mining withdrawal is 20.3 mm/year.\n",
      "Absolute difference is [LND - ROF]: 0.1 mm/year\n",
      "Relative difference is: [LND - ROF]/[LND]: 0.6 %\n",
      "\n"
     ]
    }
   ],
   "source": [
    "# Comparison at continent level\n",
    "\n",
    "file = pooch.retrieve(\n",
    "    \"https://pubs.usgs.gov/of/2006/1187/basemaps/continents/continents.zip\", None\n",
    ")\n",
    "\n",
    "continents = gp.read_file(\"zip://\" + file)\n",
    "\n",
    "# Initialize some xarrays used for storage and computation\n",
    "delta_min_lnd_vs_rof = lnd_min_withd.copy(deep=True)*0.0\n",
    "relative_delta_min_lnd_vs_rof = lnd_min_withd.copy(deep=True)*0.0\n",
    "array_ones = lnd_min_withd.copy(deep=True)*0.0 + 1.0\n",
    "\n",
    "# Generate a mask for each continent for both lnd and rof components\n",
    "continents_lnd = regionmask.mask_geopandas(continents, lnd_lon, lnd_lat)\n",
    "continents_rof = regionmask.mask_geopandas(continents, rof_lon, rof_lat)\n",
    "\n",
    "# Each continent gets has its own individual index from 0 to 7\n",
    "continent_index = np.arange(0,8)\n",
    "\n",
    "# Comparison at continent level\n",
    "# Find the absolute and relative difference in mining withdrawal amount between lnd and routing component at each basin level\n",
    "for continent in range(np.max(continent_index)+1): # loop over each continent\n",
    "    continent_lnd_min_withd = np.nansum(lnd_min_withd.where(continents_lnd == continent)) # for given continent compute total withdrawal for LND component\n",
    "    continent_rof_min_withd = (-1.0)*np.nansum(rof_min_withd.where(continents_rof == continent)) # for given continent compute total withdrawal for ROF component\n",
    "    \n",
    "    if continent != 7: # no withdrawal in Antarctica\n",
    "        print(\"For \" + str(continents.CONTINENT[continent]) + \" total LND mining withdrawal is \" + str(np.round(continent_lnd_min_withd,1)) + \" mm/year, while total ROF mining withdrawal is \" + str(np.round(continent_rof_min_withd,1)) + \" mm/year.\")\n",
    "    \n",
    "    delta = continent_lnd_min_withd - continent_rof_min_withd # compute absolute difference in withdrawal amount for given continent\n",
    "    delta_min_lnd_vs_rof = delta_min_lnd_vs_rof + (array_ones.where(continents_lnd == continent)*delta).fillna(0) # add this continent difference in withdrawal to the map (masked by continent map)\n",
    "    \n",
    "    if continent != 7: # no withdrawal in Antarctica\n",
    "        relative_delta_min_lnd_vs_rof = relative_delta_min_lnd_vs_rof + (array_ones.where(continents_lnd == continent)*(delta/continent_lnd_min_withd)*100).fillna(0) # compute relative difference for given continent and add its value to the final map\n",
    "      \n",
    "    if continent != 7: # no withdrawal in Antarctica   \n",
    "        print(\"Absolute difference is [LND - ROF]: \" + str(np.round(delta,1)) + \" mm/year\")\n",
    "        print(\"Relative difference is: [LND - ROF]/[LND]: \" + str(np.round(np.abs((delta/continent_lnd_min_withd)*100),1)) + \" %\")\n",
    "        print()\n",
    "        \n",
    "print(\"For the entire globe, total LND mining withdrawal is \" + str(np.round(np.nansum(lnd_min_withd),1)) + \" mm/year, while total ROF mining withdrawal is \" + str(np.round(np.abs(np.nansum(rof_min_withd)),1)) + \" mm/year.\")\n",
    "print(\"Absolute difference is [LND - ROF]: \" + str(np.round(np.nansum(lnd_min_withd) - np.abs(np.nansum(rof_min_withd)),1)) + \" mm/year\")\n",
    "print(\"Relative difference is: [LND - ROF]/[LND]: \" + str(np.round(np.abs((np.nansum(lnd_min_withd) - np.abs(np.nansum(rof_min_withd)))/np.nansum(lnd_min_withd))*100,1)) + \" %\")\n",
    "print()  "
   ]
  },
  {
   "cell_type": "code",
   "execution_count": null,
   "id": "ce523726-29c4-4d58-8c5c-8f1cd9ec1aa8",
   "metadata": {},
   "outputs": [],
   "source": []
  }
 ],
 "metadata": {
  "kernelspec": {
   "display_name": "Python [conda env:regionmask_env]",
   "language": "python",
   "name": "conda-env-regionmask_env-py"
  },
  "language_info": {
   "codemirror_mode": {
    "name": "ipython",
    "version": 3
   },
   "file_extension": ".py",
   "mimetype": "text/x-python",
   "name": "python",
   "nbconvert_exporter": "python",
   "pygments_lexer": "ipython3",
   "version": "3.10.6"
  }
 },
 "nbformat": 4,
 "nbformat_minor": 5
}
